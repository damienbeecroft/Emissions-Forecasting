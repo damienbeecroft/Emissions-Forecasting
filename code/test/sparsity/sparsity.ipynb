{
 "cells": [
  {
   "cell_type": "code",
   "execution_count": 4,
   "metadata": {},
   "outputs": [],
   "source": [
    "import pymrio as pm\n",
    "import matplotlib.pyplot as plt\n",
    "import numpy as np\n",
    "from scipy.sparse import csr_matrix\n",
    "path_to_data = '/mmfs1/gscratch/amath/dob1998/emissions_forecasting/data/IOT_ixi/'\n",
    "path_to_save = '/mmfs1/gscratch/amath/dob1998/emissions_forecasting/'"
   ]
  },
  {
   "cell_type": "code",
   "execution_count": 5,
   "metadata": {},
   "outputs": [],
   "source": [
    "def is_nonzero(val):\n",
    "    if val == 0:\n",
    "        val = 0\n",
    "    else:\n",
    "        val = 1\n",
    "    return val"
   ]
  },
  {
   "cell_type": "markdown",
   "metadata": {},
   "source": [
    "### In this notebook we look at the sparsity of the 1995 and 2007 IOT matrices. We care about the follwoing two questions."
   ]
  },
  {
   "cell_type": "markdown",
   "metadata": {},
   "source": [
    "1) Are the supply flows changing over time?\n",
    "2) Are the matrices sparse enough to justify using sparse matrices?"
   ]
  },
  {
   "cell_type": "markdown",
   "metadata": {},
   "source": [
    "# IOT 1995"
   ]
  },
  {
   "cell_type": "code",
   "execution_count": 6,
   "metadata": {},
   "outputs": [],
   "source": [
    "iot1995 = pm.parse_exiobase3(path= path_to_data + 'IOT_1995_ixi.zip')"
   ]
  },
  {
   "cell_type": "code",
   "execution_count": 9,
   "metadata": {},
   "outputs": [],
   "source": [
    "Z1995 = iot1995.Z.to_numpy()\n",
    "Zbool = [[is_nonzero(Z1995[i,j]) for i in range(Z1995.shape[0])] for j in range(Z1995.shape[1])]"
   ]
  },
  {
   "cell_type": "code",
   "execution_count": 12,
   "metadata": {},
   "outputs": [
    {
     "data": {
      "text/plain": [
       "0.4542605064894407"
      ]
     },
     "execution_count": 12,
     "metadata": {},
     "output_type": "execute_result"
    }
   ],
   "source": [
    "Z1995_sprs = csr_matrix(Z1995)\n",
    "non_zero_elements = Z1995_sprs.nnz\n",
    "total_elements = Z1995_sprs.shape[0] * Z1995_sprs.shape[1]\n",
    "sparsity1995 = 1 - (non_zero_elements / total_elements)\n",
    "sparsity1995"
   ]
  },
  {
   "cell_type": "markdown",
   "metadata": {},
   "source": [
    "# ITO 2007"
   ]
  },
  {
   "cell_type": "code",
   "execution_count": 2,
   "metadata": {},
   "outputs": [],
   "source": [
    "iot2007 = pm.parse_exiobase3(path= path_to_data + 'IOT_2007_ixi.zip')"
   ]
  },
  {
   "cell_type": "code",
   "execution_count": 15,
   "metadata": {},
   "outputs": [],
   "source": [
    "Z2007 = iot2007.Z.to_numpy()\n",
    "Zbool = [[is_nonzero(Z2007[i,j]) for i in range(Z2007.shape[0])] for j in range(Z2007.shape[1])]"
   ]
  },
  {
   "cell_type": "code",
   "execution_count": 16,
   "metadata": {},
   "outputs": [
    {
     "data": {
      "text/plain": [
       "0.3932090159843914"
      ]
     },
     "execution_count": 16,
     "metadata": {},
     "output_type": "execute_result"
    }
   ],
   "source": [
    "Z2007_sprs = csr_matrix(Z2007)\n",
    "non_zero_elements = Z2007_sprs.nnz\n",
    "total_elements = Z2007_sprs.shape[0] * Z2007_sprs.shape[1]\n",
    "sparsity2007 = 1 - (non_zero_elements / total_elements)\n",
    "sparsity2007"
   ]
  },
  {
   "cell_type": "markdown",
   "metadata": {},
   "source": [
    "# Takeaway"
   ]
  },
  {
   "cell_type": "markdown",
   "metadata": {},
   "source": [
    "1) We see that the sparsity of the matrices is changing. Therefore, the sources of supply are changing as well. This will have to be carefully addressed in the model.\n",
    "2) The sparsity is only about 0.4 which is not nearly sparse enough to justify using sparse matrices."
   ]
  }
 ],
 "metadata": {
  "kernelspec": {
   "display_name": "Python 3",
   "language": "python",
   "name": "python3"
  },
  "language_info": {
   "codemirror_mode": {
    "name": "ipython",
    "version": 3
   },
   "file_extension": ".py",
   "mimetype": "text/x-python",
   "name": "python",
   "nbconvert_exporter": "python",
   "pygments_lexer": "ipython3",
   "version": "3.12.2"
  }
 },
 "nbformat": 4,
 "nbformat_minor": 2
}
